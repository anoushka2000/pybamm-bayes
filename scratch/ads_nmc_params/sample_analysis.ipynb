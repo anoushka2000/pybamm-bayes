{
 "cells": [
  {
   "cell_type": "code",
   "execution_count": null,
   "id": "d3d196e7",
   "metadata": {},
   "outputs": [],
   "source": [
    "%load_ext autoreload\n",
    "\n",
    "import pybamm\n",
    "import pandas as pd\n",
    "import numpy as np\n",
    "import plotly.graph_objects as go\n",
    "import matplotlib.pyplot as plt\n",
    "from pybamm_bayes.workflows.utils.parameter_sets.airbus_nmc import airbus_cell_parameters\n",
    "\n",
    "pybamm.set_logging_level(\"SUCCESS\")\n",
    "data = pd.read_csv(\"scratch/SN01_cycle_1.csv\")"
   ]
  },
  {
   "cell_type": "code",
   "execution_count": null,
   "id": "bb2425c2",
   "metadata": {},
   "outputs": [],
   "source": [
    "%autoreload 2\n",
    "parameter_values = airbus_cell_parameters()\n",
    "param = pybamm.LithiumIonParameters()\n",
    "\n",
    "Vinit = data.output.values[0]\n",
    "eps_n = 0.59658823\n",
    "eps_p = 0.79010106\n",
    "Q_Li = 3.94666883\n",
    "\n",
    "# sample\n",
    "parameter_values[\"Negative electrode active material volume fraction\"] = eps_n\n",
    "parameter_values[\"Positive electrode active material volume fraction\"] = eps_p\n",
    "Q_n = parameter_values.evaluate(param.n.Q_init)\n",
    "Q_p = parameter_values.evaluate(param.p.Q_init)\n",
    "U_n = param.n.prim.U\n",
    "U_p = param.p.prim.U\n",
    "T_ref = param.T_ref"
   ]
  },
  {
   "cell_type": "code",
   "execution_count": null,
   "id": "f9a21ff7",
   "metadata": {},
   "outputs": [],
   "source": [
    "model = pybamm.BaseModel()\n",
    "\n",
    "Vmin = data.output.min()\n",
    "Vmax = data.output.max()\n",
    "\n",
    "# equation for 100% SOC\n",
    "x_100 = pybamm.Variable(\"x_100\")\n",
    "y_100 = (Q_Li - x_100 * Q_n) / Q_p\n",
    "\n",
    "# equation for 0% SOC\n",
    "x_0 = pybamm.Variable(\"x_0\")\n",
    "Q = Q_n * (x_100 - x_0)\n",
    "y_0 = y_100 + Q / Q_p\n",
    "\n",
    "# equation for SOC\n",
    "soc = pybamm.Variable(\"SOC\")\n",
    "x = x_0 + soc * (x_100 - x_0)\n",
    "y = y_0 - soc * (y_0 - y_100)\n",
    "\n",
    "model.algebraic = {\n",
    "    x_100: U_p(y_100, T_ref) - U_n(x_100, T_ref) - Vmax,\n",
    "    x_0: U_p(y_0, T_ref) - U_n(x_0, T_ref) - Vmin,\n",
    "    soc: U_p(y, T_ref) - U_n(x, T_ref) - Vinit\n",
    "    }\n",
    "\n",
    "model.initial_conditions = {x_100: 0.995, x_0: 0.02, soc: 0.9}\n",
    "\n",
    "model.variables = {\n",
    "    \"x\": x, \n",
    "    \"y\": y,\n",
    "    \"SOC\": soc\n",
    "    }\n",
    "\n",
    "sim = pybamm.Simulation(model, parameter_values=parameter_values)\n",
    "sol = sim.solve([0])\n",
    "\n",
    "x = sol[\"x\"].data[0]\n",
    "y = sol[\"y\"].data[0]\n",
    "soc = sol[\"SOC\"].data[0]"
   ]
  },
  {
   "cell_type": "code",
   "execution_count": null,
   "id": "64664fce",
   "metadata": {},
   "outputs": [],
   "source": [
    "data[\"time\"] = data[\"time\"].values - data[\"time\"].values[0]\n",
    "\n",
    "parameter_values[\"Maximum concentration in negative electrode [mol.m-3]\"] = 41360\n",
    "current = pybamm.Interpolant(x = data.time.values, y = -1*data.current.values, children=pybamm.t)\n",
    "model = pybamm.lithium_ion.SPMe()\n",
    "parameter_values = airbus_cell_parameters()\n",
    "\n",
    "parameter_values[\"Negative electrode active material volume fraction\"] = eps_n\n",
    "c_n_max = parameter_values[\"Maximum concentration in negative electrode [mol.m-3]\"]\n",
    "parameter_values[\"Initial concentration in negative electrode [mol.m-3]\"] = c_n_max * x\n",
    "\n",
    "parameter_values[\"Positive electrode active material volume fraction\"] = eps_p\n",
    "c_p_max = parameter_values[\"Maximum concentration in positive electrode [mol.m-3]\"]\n",
    "parameter_values[\"Initial concentration in positive electrode [mol.m-3]\"] = c_p_max * y\n",
    "\n",
    "\n",
    "parameter_values[\"Current function [A]\"] = current\n",
    "\n",
    "simulation = pybamm.Simulation(\n",
    "    model,\n",
    "    solver=pybamm.CasadiSolver(\"fast\"),\n",
    "    parameter_values=parameter_values,\n",
    ")\n",
    "\n"
   ]
  },
  {
   "cell_type": "code",
   "execution_count": null,
   "id": "19726280",
   "metadata": {},
   "outputs": [],
   "source": [
    "sol = simulation.solve(initial_soc=soc)"
   ]
  },
  {
   "cell_type": "code",
   "execution_count": null,
   "id": "fd8f1bdc",
   "metadata": {},
   "outputs": [],
   "source": [
    "plt.clf()\n",
    "sol.plot()"
   ]
  },
  {
   "cell_type": "code",
   "execution_count": null,
   "id": "65493b9c",
   "metadata": {},
   "outputs": [],
   "source": [
    "fig, ax = pybamm.plot_voltage_components(sol, split_by_electrode=True)\n",
    "ax.set_ylim(2, 5) \n",
    "fig"
   ]
  },
  {
   "cell_type": "code",
   "execution_count": null,
   "id": "c107da03",
   "metadata": {},
   "outputs": [],
   "source": [
    "plt.clf()\n",
    "sol.plot(\n",
    "    [\n",
    "        \"Terminal voltage [V]\",\n",
    "        \"Negative particle concentration overpotential [V]\",\n",
    "        \"X-averaged negative particle concentration\",\n",
    "        \"Negative particle concentration\",\n",
    "        \"Maximum negative particle concentration [mol.m-3]\"\n",
    "    ]\n",
    ")"
   ]
  }
 ],
 "metadata": {
  "kernelspec": {
   "display_name": "Python 3 (ipykernel)",
   "language": "python",
   "name": "python3"
  },
  "language_info": {
   "codemirror_mode": {
    "name": "ipython",
    "version": 3
   },
   "file_extension": ".py",
   "mimetype": "text/x-python",
   "name": "python",
   "nbconvert_exporter": "python",
   "pygments_lexer": "ipython3",
   "version": "3.11.5"
  }
 },
 "nbformat": 4,
 "nbformat_minor": 5
}
