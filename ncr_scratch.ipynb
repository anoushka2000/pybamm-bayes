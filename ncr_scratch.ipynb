{
 "cells": [
  {
   "cell_type": "code",
   "execution_count": null,
   "id": "d3d196e7",
   "metadata": {},
   "outputs": [],
   "source": [
    "import pybamm\n",
    "import scipy.io\n",
    "import pandas as pd\n",
    "import plotly.graph_objects as go\n",
    "from pybamm_bayes.workflows.utils.parameter_sets.airbus_ncr import airbus_cell_parameters\n",
    "\n",
    "pybamm.set_logging_level(\"SPAM\")\n"
   ]
  },
  {
   "cell_type": "code",
   "execution_count": null,
   "id": "f4821b47",
   "metadata": {},
   "outputs": [],
   "source": [
    "data_path = '/Panasonic 18650PF Data/Panasonic 18650PF Data/25degC/C20 OCV and 1C discharge tests_start_of_tests/05-08-17_13.26 C20 OCV Test_C20_25dC.mat'\n",
    "mat = scipy.io.loadmat(data_path)\n",
    "mdata = mat['meas']\n",
    "ndata = {n: mdata[n][0,0].flatten() for n in mdata.dtype.names}\n",
    "columns = [n for n, v in ndata.items()]\n",
    "d=dict((c, ndata[c][0]) for c in columns)\n",
    "df=pd.DataFrame.from_dict(ndata)"
   ]
  },
  {
   "cell_type": "code",
   "execution_count": null,
   "id": "4529f23a",
   "metadata": {},
   "outputs": [],
   "source": [
    "params = airbus_cell_parameters()\n",
    "model = pybamm.lithium_ion.SPMe()"
   ]
  },
  {
   "cell_type": "code",
   "execution_count": null,
   "id": "377854ab",
   "metadata": {},
   "outputs": [],
   "source": [
    "# create interpolant\n",
    "current_interpolant = pybamm.Interpolant(df.Time.values, -1*df.Current.values, pybamm.t)\n",
    "\n",
    "# set drive cycle\n",
    "params[\"Current function [A]\"] = current_interpolant\n",
    "params[\"Lower voltage cut-off [V]\"] = 2.5\n",
    "sim = pybamm.Simulation(model, parameter_values=params)\n",
    "solution = sim.solve(t_eval=df.Time.values, initial_soc=1)\n",
    "solution.plot()"
   ]
  },
  {
   "cell_type": "code",
   "execution_count": null,
   "id": "c47e3e24",
   "metadata": {},
   "outputs": [],
   "source": [
    "# fig = go.Figure()\n",
    "# sto = np.linspace(0,1, num=100)\n",
    "# fig.add_trace(go.Scatter(x=sto, y = graphite_mcmb2528_ocp_Dualfoil1998(sto)))\n",
    "# pos_ocp = params[\"Positive electrode OCP [V]\"]\n",
    "# fig.add_trace(go.Scatter(x=sto, y = pos_ocp(sto)))\n"
   ]
  },
  {
   "cell_type": "code",
   "execution_count": null,
   "id": "409df991",
   "metadata": {},
   "outputs": [],
   "source": [
    "fig = go.Figure()\n",
    "fig.add_trace(go.Scatter(x=df.Time, y = df.Voltage))\n",
    "fig.add_trace(go.Scatter(x=solution.t, y = solution[\"Voltage [V]\"].entries))"
   ]
  },
  {
   "cell_type": "code",
   "execution_count": null,
   "id": "c9f76fe4",
   "metadata": {},
   "outputs": [],
   "source": [
    "fig.add_trace(go.Scatter(x=df.Time, y = df.Current))"
   ]
  }
 ],
 "metadata": {
  "kernelspec": {
   "display_name": "Python 3 (ipykernel)",
   "language": "python",
   "name": "python3"
  },
  "language_info": {
   "codemirror_mode": {
    "name": "ipython",
    "version": 3
   },
   "file_extension": ".py",
   "mimetype": "text/x-python",
   "name": "python",
   "nbconvert_exporter": "python",
   "pygments_lexer": "ipython3",
   "version": "3.11.5"
  }
 },
 "nbformat": 4,
 "nbformat_minor": 5
}
