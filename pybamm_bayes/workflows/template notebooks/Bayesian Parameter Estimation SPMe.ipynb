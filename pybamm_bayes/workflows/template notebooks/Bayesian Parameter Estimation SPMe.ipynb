{
 "cells": [
  {
   "cell_type": "code",
   "execution_count": null,
   "id": "chemical-sympathy",
   "metadata": {},
   "outputs": [],
   "source": [
    "import os\n",
    "import math\n",
    "import numpy as np\n",
    "import pandas as pd\n",
    "import plotly.express as px\n",
    "import plotly.graph_objects as go\n",
    "\n",
    "import pybamm\n",
    "from pymcmcstat.MCMC import MCMC\n",
    "from pymcmcstat.settings.DataStructure import DataStructure"
   ]
  },
  {
   "cell_type": "markdown",
   "id": "painted-tension",
   "metadata": {},
   "source": [
    "## SPMe Model Definition"
   ]
  },
  {
   "cell_type": "code",
   "execution_count": null,
   "id": "cbb5b138",
   "metadata": {},
   "outputs": [],
   "source": [
    "def current_function(c):\n",
    "    \n",
    "    def multiharmonic(t):\n",
    "        current = c*(np.sin(2*math.pi*t/10) + np.sin(2*math.pi*t/1) + np.sin(2*math.pi*10*t) + np.sin(2*math.pi*100*t))\n",
    "        return current\n",
    "    \n",
    "    return multiharmonic"
   ]
  },
  {
   "cell_type": "code",
   "execution_count": null,
   "id": "d13ff035",
   "metadata": {},
   "outputs": [],
   "source": [
    "soc_list = np.linspace(0, 1, num=11)"
   ]
  },
  {
   "cell_type": "code",
   "execution_count": null,
   "id": "supreme-phrase",
   "metadata": {},
   "outputs": [],
   "source": [
    "model = pybamm.lithium_ion.SPMe()\n",
    "\n",
    "param = model.default_parameter_values\n",
    "param['Negative electrode diffusivity [m2.s-1]'] = 3.54e-14\n",
    "param['Positive electrode diffusivity [m2.s-1]'] = 1.01e-13\n",
    "param['Electrolyte diffusivity [m2.s-1]'] = 2.8e-10\n",
    "param['Cation transference number'] = 0.4\n",
    "\n",
    "cur_amp = 0.002\n",
    "param[\"Current function [A]\"] =  current_function(cur_amp)\n",
    "\n",
    "simulation = pybamm.Simulation(model, parameter_values=param)\n",
    "\n",
    "\n",
    "t_max = 60\n",
    "t_eval = np.linspace(0, t_max, num=(t_max//2))"
   ]
  },
  {
   "cell_type": "code",
   "execution_count": null,
   "id": "fbcd05af",
   "metadata": {},
   "outputs": [],
   "source": [
    "fig = go.Figure()\n",
    "\n",
    "for soc in soc_list:\n",
    "    simulation.solve(t_eval, initial_soc = soc)\n",
    "    solution = simulation.solution\n",
    "    t = solution[\"Time [s]\"]\n",
    "    V = solution[\"Terminal voltage [V]\"]\n",
    "    fig.add_trace(go.Scatter(x = t_eval/60, y = V.entries, mode = 'lines', name = f\"SOC\"))\n",
    "    \n",
    "fig.update_xaxes(title='Time (min)')\n",
    "fig.update_yaxes(title='Voltage (V)')"
   ]
  },
  {
   "cell_type": "code",
   "execution_count": null,
   "id": "664857ef",
   "metadata": {},
   "outputs": [],
   "source": [
    "fig.show()"
   ]
  },
  {
   "cell_type": "markdown",
   "id": "738bcab3",
   "metadata": {},
   "source": [
    "## Data Generation"
   ]
  },
  {
   "cell_type": "code",
   "execution_count": null,
   "id": "777c31b1",
   "metadata": {},
   "outputs": [],
   "source": [
    "# noise with σ = 3 mV\n",
    "noise = np.random.normal(loc = 0, scale = 3e-3, size = V.entries.shape)\n",
    "\n",
    "voltage_data = V.entries # + noise"
   ]
  },
  {
   "cell_type": "markdown",
   "id": "7b3569be",
   "metadata": {},
   "source": [
    "## Parameter Estimation"
   ]
  },
  {
   "cell_type": "code",
   "execution_count": null,
   "id": "opened-tattoo",
   "metadata": {},
   "outputs": [],
   "source": [
    "def dfn_model(theta):\n",
    "    \n",
    "    Ds_n, Ds_p, De = theta\n",
    "    \n",
    "    param['Negative electrode diffusivity [m2.s-1]'] = np.exp(Ds_n)\n",
    "    param['Positive electrode diffusivity [m2.s-1]'] = np.exp(Ds_p)\n",
    "    param['Electrolyte diffusivity [m2.s-1]'] = np.exp(De)\n",
    "    \n",
    "    simulation = pybamm.Simulation(model, parameter_values=param)\n",
    "    simulation.solve(t_eval, inputs={\"Current function [A]\": cur_app})\n",
    "    \n",
    "    return simulation.solution[\"Terminal voltage [V]\"].entries   "
   ]
  },
  {
   "cell_type": "code",
   "execution_count": null,
   "id": "851e77b2",
   "metadata": {},
   "outputs": [],
   "source": [
    "def ss_error(theta, pass_arg):\n",
    "    \n",
    "    y_hat = dfn_model(theta)\n",
    "    dif = voltage_data[:y_hat.size] - y_hat\n",
    "    return np.dot(dif.T, dif)\n",
    "    "
   ]
  },
  {
   "cell_type": "markdown",
   "id": "c954350d",
   "metadata": {},
   "source": [
    "## Setup MCMC Simulation"
   ]
  },
  {
   "cell_type": "code",
   "execution_count": null,
   "id": "91c968e9",
   "metadata": {},
   "outputs": [],
   "source": [
    "theta0 = {\"D_sn\": np.log(5e-12), \"D_sp\": np.log(5e-12), \"D_e\": np.log(5e-12)}"
   ]
  },
  {
   "cell_type": "code",
   "execution_count": null,
   "id": "46d206e3",
   "metadata": {},
   "outputs": [],
   "source": [
    "# Initialize MCMC object\n",
    "mcstat = MCMC()\n",
    "\n",
    "# Add data\n",
    "mcstat.data.add_data_set(x=t_eval,\n",
    "                         y=voltage_data)\n",
    "\n",
    "# Define model parameters\n",
    "\n",
    "mcstat.parameters.add_model_parameter(name='$D_s,n$',\n",
    "                                      theta0=theta0['D_sn'], \n",
    "                                      minimum=np.log(1e-16),\n",
    "                                      maximum = np.log(1e-8),\n",
    "                                      sample=True)\n",
    "\n",
    "mcstat.parameters.add_model_parameter(name='$D_s,p$',\n",
    "                                      theta0=theta0['D_sp'],\n",
    "                                      minimum= np.log(1e-16),\n",
    "                                      maximum = np.log(1e-8),\n",
    "                                      sample=True)\n",
    "\n",
    "mcstat.parameters.add_model_parameter(name='$D_e$',\n",
    "                                      theta0=theta0['D_e'],\n",
    "                                      minimum= np.log(1e-16),\n",
    "                                      maximum = np.log(1e-8),\n",
    "                                      sample=True)"
   ]
  },
  {
   "cell_type": "code",
   "execution_count": null,
   "id": "b15f8ad3",
   "metadata": {},
   "outputs": [],
   "source": [
    "mcstat.model_settings.define_model_settings(sos_function = ss_error)\n",
    "\n",
    "# Define simulation options\n",
    "mcstat.simulation_options.define_simulation_options(\n",
    "    nsimu=1e5,\n",
    "    updatesigma=True)"
   ]
  },
  {
   "cell_type": "code",
   "execution_count": null,
   "id": "a3c90832",
   "metadata": {},
   "outputs": [],
   "source": [
    "# Run Simulation\n",
    "mcstat.run_simulation(use_previous_results=False)\n",
    "\n",
    "results = mcstat.simulation_results.results\n",
    "names = results['names']\n",
    "fullchain = results['chain']\n",
    "fulls2chain = results['s2chain']\n",
    "nsimu = results['nsimu']\n",
    "burnin = int(nsimu/20)\n",
    "chain = fullchain[burnin:, :]\n",
    "s2chain = fulls2chain[burnin:, :]\n",
    "\n",
    "mcstat.chainstats(chain, results)\n",
    "\n",
    "# plot chain metrics\n",
    "mcstat.mcmcplot.plot_chain_panel(chain, names, figsizeinches=(4, 4));\n",
    "mcstat.mcmcplot.plot_density_panel(chain, names, figsizeinches=(4, 4));\n",
    "mcstat.mcmcplot.plot_pairwise_correlation_panel(chain, names,\n",
    "                                                figsizeinches=(4, 4));"
   ]
  }
 ],
 "metadata": {
  "kernelspec": {
   "display_name": "Python 3 (ipykernel)",
   "language": "python",
   "name": "python3"
  },
  "language_info": {
   "codemirror_mode": {
    "name": "ipython",
    "version": 3
   },
   "file_extension": ".py",
   "mimetype": "text/x-python",
   "name": "python",
   "nbconvert_exporter": "python",
   "pygments_lexer": "ipython3",
   "version": "3.8.12"
  }
 },
 "nbformat": 4,
 "nbformat_minor": 5
}
